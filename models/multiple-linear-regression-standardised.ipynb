{
 "cells": [
  {
   "cell_type": "code",
   "execution_count": 1,
   "metadata": {},
   "outputs": [],
   "source": [
    "# Libraries import\n",
    "import pandas as pd\n",
    "import numpy as np\n",
    "import matplotlib.pyplot as plt\n",
    "\n",
    "from sklearn.model_selection import train_test_split, cross_val_score, cross_val_predict\n",
    "from sklearn.linear_model import LinearRegression\n",
    "from sklearn.preprocessing import StandardScaler\n",
    "from sklearn.metrics import r2_score, mean_squared_error"
   ]
  },
  {
   "cell_type": "code",
   "execution_count": 2,
   "metadata": {},
   "outputs": [],
   "source": [
    "data = pd.read_csv('../data/model-cleaned-players22.csv')\n",
    "\n",
    "data['value_eur'] = np.log(data['value_eur'])"
   ]
  },
  {
   "cell_type": "code",
   "execution_count": 3,
   "metadata": {},
   "outputs": [
    {
     "data": {
      "text/plain": [
       "array([[-1.18158287,  0.45282297,  0.12640773, ..., -0.08377233,\n",
       "        -0.02266631, -0.02841789],\n",
       "       [-0.04941603, -0.7278556 , -0.20418031, ..., -0.08377233,\n",
       "        -0.02266631, -0.02841789],\n",
       "       [-1.18158287, -0.28510114, -1.19594441, ..., -0.08377233,\n",
       "        -0.02266631, -0.02841789],\n",
       "       ...,\n",
       "       [-0.04941603, -0.13751631,  1.44875986, ..., -0.08377233,\n",
       "        -0.02266631, -0.02841789],\n",
       "       [-0.04941603, -0.28510114,  0.12640773, ..., -0.08377233,\n",
       "        -0.02266631, -0.02841789],\n",
       "       [-1.18158287,  1.04316225,  1.61405388, ..., -0.08377233,\n",
       "        -0.02266631, -0.02841789]])"
      ]
     },
     "execution_count": 3,
     "metadata": {},
     "output_type": "execute_result"
    }
   ],
   "source": [
    "y = data['value_eur']\n",
    "x = data.drop(columns= 'value_eur')\n",
    "\n",
    "x_trai, x_tes, y_train, y_test = train_test_split(\n",
    "   x, y, test_size=0.2, random_state=0\n",
    ")\n",
    "\n",
    "scaler = StandardScaler()\n",
    "x_train = scaler.fit_transform(x_trai)\n",
    "x_test = scaler.transform(x_tes)\n",
    "\n",
    "x_train"
   ]
  },
  {
   "cell_type": "code",
   "execution_count": 4,
   "metadata": {},
   "outputs": [
    {
     "data": {
      "text/plain": [
       "13.960091111194059"
      ]
     },
     "execution_count": 4,
     "metadata": {},
     "output_type": "execute_result"
    }
   ],
   "source": [
    "lr = LinearRegression()\n",
    "lr.fit(x_train, y_train)\n",
    " \n",
    "c = lr.intercept_\n",
    "c"
   ]
  },
  {
   "cell_type": "code",
   "execution_count": 5,
   "metadata": {},
   "outputs": [
    {
     "data": {
      "text/plain": [
       "array([ 1.93207047e-02,  1.18559646e+00,  5.24359245e-02,  8.29629566e-02,\n",
       "       -4.62251204e-01,  6.42845781e-03,  6.50830916e-03,  3.26772433e-03,\n",
       "       -2.29920132e-03, -2.15641484e-03,  9.92567256e-03,  2.87366268e-02,\n",
       "       -2.03664419e-03, -1.45404638e-02, -2.24846009e-02, -3.28276053e-02,\n",
       "       -6.68404553e-02,  1.98646446e-01,  5.11796554e-02,  3.34597659e-03,\n",
       "        2.30155268e-02, -1.02680115e-02,  1.70252478e-02,  1.38503912e-02,\n",
       "        4.21007772e-02, -1.01984446e-02,  1.00319336e-02,  1.35652632e-03,\n",
       "        1.28575784e-02,  1.89394744e-02,  2.50926544e-02, -2.01530440e-03,\n",
       "        2.02448019e-02,  8.38392438e-03, -3.96084950e-04, -1.73462310e-03,\n",
       "       -4.97728371e-04, -3.44824856e-02, -6.15970089e-03, -1.47102682e-02,\n",
       "       -4.70966053e-02,  8.11085630e-03,  1.12766715e-02, -1.83264523e-04,\n",
       "       -2.37008039e-03, -6.56145824e-02, -6.33200284e-02, -3.57072750e-02,\n",
       "       -6.61066175e+10,  1.22659156e+10, -6.25351934e+10,  1.50748195e-03,\n",
       "       -6.25351934e+10,  1.22659156e+10,  1.07843222e+10,  1.13784305e+10,\n",
       "       -2.73769121e+10, -9.83808309e+09, -3.10675815e+10, -3.70297024e+10,\n",
       "        3.23908958e+10, -4.14504175e+10,  2.54855030e+10, -3.72033010e+10,\n",
       "       -2.01104447e+10, -2.01104447e+10,  3.82114584e+10, -4.19635998e+10,\n",
       "       -2.81695756e+10,  6.23905243e+09,  3.12594030e+10, -3.04232665e+10,\n",
       "        3.12594030e+10, -3.13776041e+10,  6.61218609e+10, -5.35592800e+10,\n",
       "       -5.66180841e+10,  4.59841359e+10,  4.33980969e+10, -3.47295097e+10,\n",
       "        3.35959166e+10, -6.01124272e+10,  2.77456439e+10,  5.87594461e+10,\n",
       "        4.03351805e+10, -5.62613890e+10,  3.92608238e+10,  4.62574277e+10,\n",
       "        3.92608238e+10,  4.03351805e+10,  4.24018638e+10,  4.33980969e+10,\n",
       "        4.13815020e+10,  4.03351805e+10,  4.13815020e+10,  4.43718266e+10,\n",
       "        4.13815020e+10,  4.43718266e+10, -7.20537397e+10, -3.18367116e+10,\n",
       "        7.02507968e+10,  3.43877675e+10, -6.54987820e+10, -3.38513822e+10,\n",
       "       -2.64341730e+08,  1.65423378e+10, -2.98753930e+08,  7.18900113e+10,\n",
       "        1.65423378e+10, -6.19601962e+10, -9.33391075e+09, -1.85785512e+10,\n",
       "        2.27115910e+10,  7.44104991e+10,  7.25520468e+10, -2.71575335e+08,\n",
       "       -1.81087969e+10,  2.21650575e+10, -6.63995759e+10, -6.54987820e+10,\n",
       "       -4.46703826e+10, -6.05790830e+10,  7.92102078e+10, -4.15952144e+10,\n",
       "       -4.43362450e+10,  1.26416542e+10,  1.16959509e+10, -3.96649287e+10,\n",
       "       -3.26938709e+10, -3.59877239e+10, -3.38879515e+10, -6.71978641e+10,\n",
       "       -4.26657074e+10, -3.91095139e+10, -4.18052211e+10, -3.34620144e+10,\n",
       "       -2.98753930e+08, -9.85401465e+10, -1.03175105e+10,  4.07290619e+10,\n",
       "        1.25411278e+10, -6.61066175e+10,  1.28103897e+10,  1.26416542e+10,\n",
       "        1.72766388e+10,  1.69135008e+10,  3.02317835e+10, -4.09265163e+10,\n",
       "        1.32893839e+10,  4.33828906e+09, -5.66180841e+10, -4.24724786e+10,\n",
       "        1.69135008e+10,  3.55146005e+10, -1.90366506e+10, -7.25689485e+10,\n",
       "       -6.42100386e+10, -4.44457221e+10, -4.04023535e+10, -3.82196077e+10,\n",
       "       -4.53999853e+10, -3.11003589e+10, -4.14504175e+10, -2.55608731e+09,\n",
       "       -2.11967128e+10, -4.15952144e+10, -1.95445570e+10, -1.00806650e+10,\n",
       "        3.45686434e+10, -2.27284371e+10, -4.09265163e+10,  1.26416542e+10,\n",
       "        8.68302384e+09,  7.68480111e+10,  4.47593152e+10,  2.68655907e+10,\n",
       "       -1.20261553e+09, -6.79596360e+10, -1.20261553e+09, -2.81695756e+10,\n",
       "       -3.85487976e+10,  3.99076341e+10,  1.69135008e+10,  3.25940234e+10,\n",
       "       -3.22362396e+10,  2.10291645e+10, -4.38447861e+10,  3.20702928e+10,\n",
       "        8.56580519e+09, -2.76058563e+09,  7.68480111e+10, -2.69415468e+09,\n",
       "       -2.98753930e+08, -2.71575335e+08, -2.78620181e+08, -2.71575335e+08,\n",
       "       -2.85490240e+08, -2.24688522e+08, -2.64341730e+08,  7.57914636e+09,\n",
       "        7.36587681e+09, -1.16187964e+09, -1.38840583e+09, -2.78620181e+08,\n",
       "       -2.98753930e+08, -2.76058563e+09,  8.74971564e+09,  1.40856682e+10,\n",
       "        1.26218449e+10,  7.90530497e+10,  8.18551168e+09, -2.95086492e+09,\n",
       "        8.56580519e+09, -6.05422515e+10,  8.11037386e+10, -2.55608731e+09,\n",
       "        1.44574847e+10,  1.33865049e+10, -1.24201037e+09, -2.69415468e+09,\n",
       "        1.41095786e+10,  1.18075219e+10, -4.03547672e+10,  8.89712494e+09,\n",
       "        7.36587681e+09, -2.48416159e+09, -2.76058563e+09,  8.68302384e+09,\n",
       "       -5.45780596e+10,  2.21650575e+10,  7.18900113e+10, -3.34620144e+10,\n",
       "        1.36016184e+10,  2.27115910e+10,  2.04374250e+10, -4.09265163e+10,\n",
       "        4.93430062e+09,  1.32893839e+10,  3.55146005e+10, -3.59877239e+10,\n",
       "       -2.82544568e+09,  1.79807743e+10,  7.68480111e+10, -2.03487927e+10,\n",
       "        2.32452005e+10,  1.10965684e+10, -9.86276696e+08, -3.85487976e+10,\n",
       "        4.33980969e+10, -2.92197842e+08, -4.46703826e+10, -6.01124272e+10,\n",
       "       -1.76264560e+10,  8.11037386e+10, -3.29497261e+10,  7.02507968e+10,\n",
       "       -2.82544568e+09, -3.20225540e+10, -4.09265163e+10, -1.09505160e+11,\n",
       "       -2.89404247e+10,  1.58132444e+11, -4.59637564e+10,  3.35959166e+10,\n",
       "       -1.12077987e+11, -1.06870019e+11,  4.22025866e+10,  4.47593152e+10,\n",
       "        6.30439850e+08,  3.28610640e+10, -6.43458199e+10,  1.14002216e+10,\n",
       "       -1.85785512e+10, -9.83808309e+09, -2.48468799e+10, -3.11003589e+10,\n",
       "       -2.71575335e+08,  4.24018638e+10,  1.83226227e+10,  1.29695872e+10,\n",
       "        4.41335160e-03, -5.51100205e+10,  8.00623454e+09, -2.01104447e+10,\n",
       "       -3.26938709e+10,  1.25411278e+10, -1.76264560e+10, -6.05790830e+10,\n",
       "        1.14002216e+10, -2.11967128e+10, -3.93262076e+10,  2.21650575e+10,\n",
       "        2.37667566e+10, -2.11967128e+10,  4.23134455e-03, -2.32164236e+10,\n",
       "        4.35188337e+10,  3.20702928e+10, -3.38879515e+10,  6.25496132e+10,\n",
       "        3.71732968e-03, -6.69628566e+10,  1.61110938e+11,  3.12594030e+10,\n",
       "       -5.88744486e+10, -5.88744486e+10,  3.36331357e+10, -5.35592800e+10,\n",
       "        3.36331357e+10, -5.35592800e+10, -3.42128067e+10, -2.85427912e+10,\n",
       "        4.24184702e+10,  2.65910588e-03, -9.63636037e+08, -6.54256783e+10,\n",
       "       -2.73769121e+10, -5.88744486e+10,  1.83130854e-03, -6.79596360e+10,\n",
       "        6.61218609e+10, -2.01104447e+10,  6.43606573e+10, -7.11265292e+10,\n",
       "        3.14794486e+10, -3.26938709e+10, -1.89617017e+10, -6.43458199e+10,\n",
       "       -6.69628566e+10, -1.95445570e+10,  4.01268033e+10, -6.15750251e+10,\n",
       "       -4.70459789e+10, -6.06702768e+10, -6.88547912e+10, -6.71978641e+10,\n",
       "       -7.05675025e+10,  6.61218609e+10, -9.85401465e+10, -9.33391075e+09,\n",
       "        6.92774918e+10,  3.45686434e+10,  7.92102078e+10,  1.08535264e+10,\n",
       "        6.37307029e+10, -1.46685001e-03,  6.25496132e+10, -3.81683795e+10,\n",
       "       -3.63716988e+10, -2.82544568e+09, -6.54987820e+10, -6.88547912e+10,\n",
       "       -2.82544568e+09, -6.48017313e+10, -9.40447025e+08, -2.06607590e+10,\n",
       "       -7.20537397e+10, -1.12146681e+10, -2.03487927e+10, -3.26938709e+10,\n",
       "        3.15601863e+10, -2.85490240e+08, -4.34703708e+10,  6.61218609e+10,\n",
       "       -2.64341730e+08, -2.07676364e+10, -5.88744486e+10, -2.96911587e+10,\n",
       "        6.92774918e+10,  1.22214975e+10, -3.73992002e+10, -4.28382989e+10,\n",
       "       -4.15952144e+10, -9.40447025e+08,  4.33828906e+09,  4.46389867e+09,\n",
       "       -6.01124272e+10,  1.56146827e+11,  1.44375726e+11, -7.11265292e+10,\n",
       "       -4.19635998e+10,  3.75635421e-04, -4.72215362e+10, -2.21702623e-04,\n",
       "        1.16020557e+10,  1.23049346e+10,  4.59841359e+10, -4.18074347e+10,\n",
       "       -9.33391075e+09, -4.48285382e+10,  6.43606573e+10,  1.25411278e+10,\n",
       "        4.83402589e+10, -5.97508275e+10,  2.15577221e-03,  2.37667566e+10,\n",
       "       -4.26657074e+10, -3.62123642e+10, -3.38879515e+10, -4.33382281e+10,\n",
       "       -4.19635998e+10, -4.05421775e+10, -4.72215362e+10, -8.92251927e+08,\n",
       "       -4.03547672e+10, -9.58932948e+09,  2.21650575e+10,  7.92102078e+10,\n",
       "        3.25940234e+10,  4.20891316e+09, -2.95852617e+10, -9.40447025e+08,\n",
       "       -8.92251927e+08,  8.11037386e+10,  7.18900113e+10, -9.33391075e+09,\n",
       "        1.40856682e+10,  1.40856682e+10,  1.55700043e+10,  1.44711169e+10,\n",
       "        1.40856682e+10,  1.48465073e+10,  1.55700043e+10,  1.36893117e+10,\n",
       "        4.16727349e+10, -4.59637564e+10,  1.36784054e-03, -6.63995759e+10,\n",
       "       -7.24372305e+10, -6.19601962e+10, -6.79596360e+10, -3.04946699e+10,\n",
       "       -5.33372908e+10,  2.27115910e+10,  4.24184702e+10, -4.83712275e+10,\n",
       "        3.36331357e+10,  7.69474145e+10, -1.14278801e+10, -2.81695756e+10,\n",
       "       -3.80430054e+10,  4.93430062e+09,  4.58605147e+09,  1.72766388e+10,\n",
       "        4.93430062e+09,  1.83226227e+10, -1.90366506e+10,  1.16020557e+10,\n",
       "       -5.33372908e+10,  3.64358729e+10,  1.57736591e+10,  4.71769951e+10,\n",
       "       -1.09505160e+11,  2.37667566e+10, -4.35090560e+10, -6.25351934e+10,\n",
       "        2.68655907e+10, -4.59637564e+10,  1.65423378e+10,  1.65423378e+10,\n",
       "        1.26416542e+10, -2.76058563e+09,  2.77456439e+10,  2.94265380e+10,\n",
       "       -3.64219410e+10, -3.51933847e+10, -3.62123642e+10,  3.55146005e+10,\n",
       "        2.32452005e+10, -4.96410607e+10, -5.02905736e+10, -5.33372908e+10,\n",
       "       -1.03000966e+09,  2.77787888e+10,  3.64358729e+10, -3.02719784e+10,\n",
       "        3.80450880e+10, -2.86468584e+10, -4.44457221e+10,  5.87594461e+10,\n",
       "       -6.79596360e+10, -9.83808309e+09,  1.98279427e+10,  2.16046192e+10,\n",
       "        2.21650575e+10,  2.10291645e+10,  2.68655907e+10,  1.65423378e+10,\n",
       "       -2.92197842e+08,  1.16020557e+10, -2.21946492e+10,  1.12340547e+10,\n",
       "        1.79807743e+10, -4.00283931e+10, -2.57180198e+10,  3.28610640e+10,\n",
       "       -5.62183111e+10, -5.66180841e+10, -3.46841500e+10, -6.63995759e+10,\n",
       "        1.08535264e+10,  2.33612823e+10,  3.20702928e+10,  3.36331357e+10,\n",
       "        2.10291645e+10,  3.72787033e+10,  1.48465073e+10,  3.64358729e+10,\n",
       "        2.39101563e+10,  7.43009072e+10,  1.39551788e+11,  4.70501671e+09,\n",
       "        6.78371061e+10, -2.55608731e+09,  7.18900113e+10,  2.10220612e+10,\n",
       "       -2.81695756e+10,  3.65577000e+10, -3.80430054e+10, -2.92197842e+08,\n",
       "       -2.65604813e+10,  2.59555794e+10, -3.91095139e+10,  2.27115910e+10,\n",
       "        4.33828906e+09, -2.92197842e+08,  3.45686434e+10,  4.70501671e+09,\n",
       "       -9.86276696e+08,  1.19586861e+10, -3.42128067e+10,  2.04374250e+10,\n",
       "        3.35959166e+10, -4.00283931e+10, -2.55608731e+09, -4.28382989e+10,\n",
       "       -4.18052211e+10,  7.44104991e+10,  1.22659156e+10, -2.11781384e+10,\n",
       "        3.04267862e+10, -2.07676364e+10, -2.07676364e+10,  6.78371061e+10,\n",
       "        1.48465073e+10,  4.24184702e+10, -2.85490240e+08,  3.20702928e+10,\n",
       "        3.93736689e+09,  5.04501228e+09, -5.51100205e+10,  4.94760148e+10,\n",
       "       -2.11967128e+10, -2.15807747e+10, -3.91095139e+10, -2.19759775e+10,\n",
       "       -2.07676364e+10, -4.53999853e+10,  2.21650575e+10, -1.90366506e+10,\n",
       "       -4.14504175e+10, -3.93262076e+10, -4.04023535e+10, -4.24724786e+10,\n",
       "       -2.85490240e+08,  1.29695872e+10, -2.48468799e+10, -1.05490061e+10,\n",
       "       -2.78620181e+08, -4.53363041e+10,  3.94798042e+10,  3.35959166e+10,\n",
       "        1.52125841e+10,  1.48465073e+10,  1.28598137e+10, -3.11380621e+10,\n",
       "       -3.42128067e+10,  6.43606573e+10, -3.22362396e+10, -7.42837782e+10,\n",
       "        6.06842666e+10,  1.50619820e-03,  4.45918965e+10, -3.82196077e+10,\n",
       "       -4.44457221e+10, -4.24724786e+10, -3.82196077e+10,  3.61116850e-03,\n",
       "        4.35188337e+10, -5.18364331e+10,  4.45918965e+10,  3.05406725e+10,\n",
       "        4.01268033e+10, -3.34620144e+10,  3.96827322e-03,  2.53621212e-03,\n",
       "       -7.27224059e+10,  3.76953368e+10,  2.87185849e-03, -6.25351934e+10,\n",
       "       -7.11265292e+10,  2.50214704e-03,  1.40856682e+10, -6.94844567e+10,\n",
       "        1.23049346e+10,  1.78746349e+10, -2.85490240e+08, -5.89579303e+10,\n",
       "       -7.09763092e+10, -2.94201554e+10,  7.92102078e+10, -2.82544568e+09,\n",
       "       -5.47968444e+10,  1.19586861e+10,  1.91990280e+10, -9.16668043e+08,\n",
       "       -1.95445570e+10,  1.32810708e+10, -6.84653124e+10, -1.81087969e+10,\n",
       "        6.16604990e+08, -9.56014948e+10, -4.28382989e+10, -3.85487976e+10,\n",
       "       -4.07503436e+10, -4.00283931e+10,  3.64358729e+10, -4.28382989e+10,\n",
       "       -4.38447861e+10, -6.14808363e+10, -6.48017313e+10,  3.25940234e+10,\n",
       "       -5.80867950e+10,  1.52125841e+10, -1.06870019e+11, -3.77512005e+10,\n",
       "        1.69135008e+10,  1.28103897e+10,  6.25496132e+10,  1.65083521e+11,\n",
       "       -9.33391075e+09,  6.92774918e+10,  8.00623454e+09,  1.14002216e+10,\n",
       "       -6.43458199e+10, -3.19071230e+10,  2.37667566e+10,  4.47593152e+10,\n",
       "        4.47593152e+10, -9.85401465e+10, -5.62183111e+10,  3.04267862e+10,\n",
       "       -3.11380621e+10,  2.95706071e+10,  3.04267862e+10,  1.62611442e+10,\n",
       "        1.19586861e+10, -3.91095139e+10, -5.33372908e+10,  3.25940234e+10,\n",
       "        1.26416542e+10, -8.92251927e+08, -1.07203824e+09, -4.00283931e+10,\n",
       "        1.36016184e+10,  3.39713508e+10,  7.44104991e+10, -5.03138783e+10,\n",
       "        1.35859723e+10, -6.94937708e+10,  4.24184702e+10, -6.43458199e+10,\n",
       "       -3.85487976e+10, -2.62603362e+09, -7.09763092e+10, -1.12146681e+10,\n",
       "        2.27115910e+10,  1.86581599e+10, -2.89404247e+10, -6.71978641e+10,\n",
       "        1.26416542e+10, -5.76045105e+10, -6.61066175e+10, -8.80074183e+09,\n",
       "       -9.58932948e+09, -4.14504175e+10, -2.96911587e+10, -9.07126390e+09,\n",
       "       -2.89404247e+10, -9.58932948e+09, -9.40447025e+08, -6.24032328e+10,\n",
       "        8.00623454e+09, -2.17193694e+10, -4.24724786e+10, -4.24724786e+10,\n",
       "       -5.45780596e+10, -2.64341730e+08, -5.97508275e+10, -1.99210810e+10,\n",
       "       -2.57180198e+10,  2.10291645e+10, -5.08073790e+10, -6.31632348e+10,\n",
       "       -5.95190665e+10, -1.12146681e+10,  1.22659156e+10,  1.19843431e+10,\n",
       "       -6.94937708e+10,  1.25411278e+10, -5.35592800e+10, -5.33372908e+10,\n",
       "       -6.43458199e+10, -2.03487927e+10, -6.14808363e+10,  7.11429301e+10,\n",
       "       -3.49473661e+10, -5.18364331e+10, -2.98753930e+08,  4.24184702e+10,\n",
       "        1.26416542e+10,  4.46389867e+09, -1.01393250e+11,  1.61625971e+10,\n",
       "        2.40319616e+10, -3.81683795e+10,  1.65423378e+10,  2.77456439e+10,\n",
       "        3.10160161e+10,  3.64358729e+10,  5.87594461e+10,  4.82103036e+09,\n",
       "        4.46389867e+09,  1.72766388e+10, -4.09260866e+10, -3.96649287e+10,\n",
       "        3.73342881e+10, -5.82057446e+10, -6.63995759e+10, -5.61302516e+10,\n",
       "       -7.36007555e+10,  4.82103036e+09, -6.37541745e+10, -4.46703826e+10,\n",
       "       -4.59637564e+10, -6.19601962e+10, -5.62341563e+10,  4.58605147e+09,\n",
       "       -9.83058312e+10, -1.46108917e+11, -6.22398581e+10, -3.12028494e+11,\n",
       "        1.50266854e+11,  1.61748078e+11, -2.16626808e+11, -2.14367837e+11,\n",
       "       -6.48829450e+09, -5.49002957e+10,  1.89033378e+11,  1.09413242e+11,\n",
       "        1.90840128e+11, -1.71379345e+11, -6.09714557e+10,  4.06474664e+10,\n",
       "       -7.65976838e+10, -1.56403730e+11, -1.42980454e+11,  1.24047877e+11,\n",
       "       -5.20246837e+10, -1.18598674e+09,  2.92711256e+11, -4.74622407e+10,\n",
       "       -2.72708996e+11,  7.02623342e+10,  1.02506568e+11,  4.27081332e+10,\n",
       "        8.19921671e+10,  2.88604878e+11,  2.29256245e+09, -2.20058431e+10,\n",
       "        1.02011191e+10,  2.11952987e+11, -3.46761935e+10, -2.11353322e+10,\n",
       "       -2.04211152e+10,  1.35681942e+11,  3.25630590e+11,  8.09574336e+10,\n",
       "       -2.69699035e+11, -1.67779708e+11, -1.54828191e+11, -5.62505604e+10,\n",
       "        8.56966440e+10,  1.91979190e+11,  1.78185778e+11,  1.95724230e+11,\n",
       "        2.85965288e+11,  5.59758988e+10, -1.13350851e+11, -1.29866553e+09,\n",
       "        2.36107183e+09,  8.12497117e+10,  3.62599812e-04,  7.01926538e-03,\n",
       "        5.07170750e-04,  1.63293296e-03, -3.88977323e-05,  1.82846874e-02,\n",
       "       -7.35698208e-04,  2.58797266e-03,  6.58099230e-03, -1.77193097e-04,\n",
       "        1.07178846e-03, -1.70049369e-03,  1.44869397e-03,  5.20693599e+10,\n",
       "        1.42989480e-03, -7.52615739e-05, -3.28944353e-04, -2.08420460e-04,\n",
       "        1.89467738e-03,  1.09772363e-02,  3.18544172e-03,  7.69220764e-04,\n",
       "        3.51535335e-04,  2.78131522e-03,  6.72573470e-04,  1.79442248e-03,\n",
       "        1.07950045e-03, -1.51764759e-03,  7.31482924e-03,  1.35078195e-02,\n",
       "        1.11604350e-03,  1.07858098e-02,  8.94451427e-04,  2.21982141e-04,\n",
       "        2.09586176e-03,  1.47665344e-03,  5.49290148e-03, -3.11443698e-03,\n",
       "        1.08747071e-03, -4.13831464e-04,  6.67284175e-03,  2.88446600e-03,\n",
       "        6.39905341e-03,  2.49107507e-03,  6.11447817e-03, -4.52493307e-04,\n",
       "       -2.58715308e-04,  9.63353777e-03,  3.85443453e-04, -7.66497405e-04,\n",
       "        4.47160365e+10, -4.34015704e-03,  5.23052844e-04,  7.76945552e-05,\n",
       "        3.07812387e-03,  7.40783963e-03,  7.31637770e-04,  6.16110561e-04,\n",
       "        1.52719710e-03,  9.82512460e-03,  3.05368535e-03,  1.50364588e+10,\n",
       "        1.57075125e-03,  2.98688529e-03, -6.04142501e-04,  8.24168189e-04,\n",
       "        2.44004860e-03,  1.74661891e-03,  2.82670860e-03,  5.81492379e-04,\n",
       "       -1.77019430e-03,  1.60580513e-03,  2.26304799e-03,  4.20062161e-03,\n",
       "        2.40315004e-02,  9.72806427e-04,  1.16916649e-03,  1.67320164e-03,\n",
       "        3.06176544e-03,  8.05770506e-03, -1.34338595e-04,  7.92448023e-03,\n",
       "        1.04881597e-03,  6.61174104e-06,  1.36776753e-03,  6.56173634e-04,\n",
       "        7.45883648e-03,  4.44532910e-03,  1.38700339e-03,  3.38912498e-03,\n",
       "        1.63230322e-03,  1.52668261e-04, -8.99283459e-04,  1.34774574e-03,\n",
       "        3.30365902e-04, -2.36756693e-03, -1.10269747e-03,  5.83884283e-04,\n",
       "        1.34649931e-03,  1.01787634e-03,  6.05195949e-04,  1.87542160e-03,\n",
       "        1.08140413e-02, -2.50301789e-03,  1.18793589e-03, -8.69970828e-04,\n",
       "        3.97270733e-03,  2.84288469e-03,  1.72553165e-03,  5.01684147e-03,\n",
       "        5.93136913e-04,  2.97759207e-03,  2.92752407e-03,  2.40075246e-03,\n",
       "        3.75539593e-03,  8.95250403e-04,  2.20166865e-03,  3.56982763e-03,\n",
       "        7.21189443e-04,  1.07181413e-02,  6.35299483e-03, -2.21140567e-04,\n",
       "        3.02701695e-03,  6.14409384e-03, -4.77921350e-04,  3.07140932e-03,\n",
       "        3.47295561e-03, -9.13832853e-04,  1.11671227e-03,  1.30825191e+11,\n",
       "        1.97559536e-02,  5.10016554e-03,  3.07999861e-03,  5.91527737e-03,\n",
       "       -7.23514980e-04,  3.77935833e-03,  4.44843420e-03, -8.34273987e-06,\n",
       "        4.04122801e-03,  8.67361518e-03, -5.89601941e-05,  1.49013546e-03,\n",
       "        8.07214483e-03,  8.55915360e-03,  2.67589942e-03,  4.00432097e-04,\n",
       "        1.58126091e-04,  3.05992392e-03,  2.06945388e-03,  1.51828799e-03,\n",
       "        3.98777202e-03,  9.14673041e-04,  3.63069502e-03,  4.53207163e-03,\n",
       "        6.30474784e-03,  1.09876500e-02, -1.19688417e-03,  7.44767287e-03,\n",
       "        5.28511545e-03,  1.37198859e-04,  1.84031936e-03])"
      ]
     },
     "execution_count": 5,
     "metadata": {},
     "output_type": "execute_result"
    }
   ],
   "source": [
    "m = lr.coef_\n",
    "m"
   ]
  },
  {
   "cell_type": "code",
   "execution_count": 6,
   "metadata": {},
   "outputs": [
    {
     "data": {
      "text/plain": [
       "array([14.46823647, 13.48800696, 13.0569105 , ..., 14.23923857,\n",
       "       13.69912241, 15.69648975])"
      ]
     },
     "execution_count": 6,
     "metadata": {},
     "output_type": "execute_result"
    }
   ],
   "source": [
    "y_pred_train = lr.predict(x_train)\n",
    "y_pred_train"
   ]
  },
  {
   "cell_type": "code",
   "execution_count": 7,
   "metadata": {},
   "outputs": [
    {
     "data": {
      "image/png": "[encoded data removed]",
      "text/plain": [
       "<Figure size 432x288 with 1 Axes>"
      ]
     },
     "metadata": {
      "needs_background": "light"
     },
     "output_type": "display_data"
    }
   ],
   "source": [
    "plt.scatter(y_train, y_pred_train)\n",
    "plt.xlabel('Actual Values')\n",
    "plt.ylabel('Predicted Values')\n",
    "plt.show()"
   ]
  },
  {
   "cell_type": "code",
   "execution_count": 8,
   "metadata": {},
   "outputs": [
    {
     "data": {
      "text/plain": [
       "0.9791557155614679"
      ]
     },
     "execution_count": 8,
     "metadata": {},
     "output_type": "execute_result"
    }
   ],
   "source": [
    "r2_score(y_train, y_pred_train)"
   ]
  },
  {
   "cell_type": "code",
   "execution_count": 17,
   "metadata": {},
   "outputs": [],
   "source": [
    "y_pred_test = lr.predict(x_test)\n",
    "\n",
    "# I noticed that all scores in the y_pred_test falls within the range of 10 and 20\n",
    "# except for 4 rows with numbers in the millions. Because 2 is a very small number from\n",
    "# over 17000 rows, I decided it's best to remove them because they completely skew the analysis.\n",
    "lower_bound = 10\n",
    "upper_bound = 21\n",
    "\n",
    "# Use boolean indexing to filter out outliers from y_pred_test\n",
    "outliers_removed_y_pred_test = y_pred_test[(y_pred_test >= lower_bound) & (y_pred_test <= upper_bound)]\n",
    "\n",
    "# Use the same index to remove corresponding rows from y\n",
    "outliers_removed_y_test = y_test[(y_pred_test >= lower_bound) & (y_pred_test <= upper_bound)]"
   ]
  },
  {
   "cell_type": "code",
   "execution_count": 19,
   "metadata": {},
   "outputs": [
    {
     "data": {
      "image/png": "[encoded data removed]",
      "text/plain": [
       "<Figure size 432x288 with 1 Axes>"
      ]
     },
     "metadata": {
      "needs_background": "light"
     },
     "output_type": "display_data"
    }
   ],
   "source": [
    "plt.scatter(outliers_removed_y_test, outliers_removed_y_pred_test)\n",
    "plt.xlabel('Actual Values')\n",
    "plt.ylabel('Predicted Values')\n",
    "plt.show()"
   ]
  },
  {
   "cell_type": "code",
   "execution_count": 20,
   "metadata": {},
   "outputs": [
    {
     "data": {
      "text/plain": [
       "0.9774320443755623"
      ]
     },
     "execution_count": 20,
     "metadata": {},
     "output_type": "execute_result"
    }
   ],
   "source": [
    "r2_score(outliers_removed_y_test, outliers_removed_y_pred_test)"
   ]
  },
  {
   "cell_type": "code",
   "execution_count": 21,
   "metadata": {},
   "outputs": [
    {
     "name": "stdout",
     "output_type": "stream",
     "text": [
      "rmse:  0.18005657199851258\n"
     ]
    }
   ],
   "source": [
    "# Calculate the Root Mean Squared Error (RMSE)\n",
    "mse = mean_squared_error(outliers_removed_y_test, outliers_removed_y_pred_test)\n",
    "rmse = np.sqrt(mse)\n",
    "\n",
    "print('rmse: ', rmse)"
   ]
  },
  {
   "cell_type": "code",
   "execution_count": 29,
   "metadata": {},
   "outputs": [
    {
     "name": "stdout",
     "output_type": "stream",
     "text": [
      "-1.6283611727066783e+24\n"
     ]
    }
   ],
   "source": [
    "cross_val_score_train = cross_val_score(lr, x_train, y_train, scoring='r2', cv=10)\n",
    "\n",
    "print(np.mean(cross_val_score_train))"
   ]
  },
  {
   "cell_type": "code",
   "execution_count": 30,
   "metadata": {},
   "outputs": [
    {
     "name": "stdout",
     "output_type": "stream",
     "text": [
      "r2_score_test:  -9.536878169744098e+24\n"
     ]
    }
   ],
   "source": [
    "cross_val_score_test = cross_val_score(lr, x_test, y_test, scoring='r2', cv=10)\n",
    "r2_score_test = np.mean(cross_val_score_test)\n",
    "\n",
    "print('r2_score_test: ', r2_score_test)\n"
   ]
  },
  {
   "cell_type": "code",
   "execution_count": 34,
   "metadata": {},
   "outputs": [
    {
     "name": "stdout",
     "output_type": "stream",
     "text": [
      "Cross-Validated rmse:  0.18637663031587484\n",
      "Cross-Validated rmse with outliers:  1513999832082.1343\n"
     ]
    }
   ],
   "source": [
    "# Calculate the RMSE from the cross-validated predictions\n",
    "y_pred = cross_val_predict(lr, x_train, y_train, cv=10)\n",
    "\n",
    "# I noticed that all scores in the y_pred falls within the range of 9 and 21\n",
    "# except for 27 rows with numbers in the millions and negative millions. Since 27 is a very small number from\n",
    "# over 13000 rows, I decided it's best to remove them because they completely skew the analysis.\n",
    "lower_bound = 9\n",
    "upper_bound = 21\n",
    "\n",
    "# Use boolean indexing to filter out outliers from y_pred\n",
    "outliers_removed_y_pred = y_pred[(y_pred >= lower_bound) & (y_pred <= upper_bound)]\n",
    "\n",
    "# Use the same index to remove corresponding rows from y\n",
    "outliers_removed_y_train = y_train[(y_pred >= lower_bound) & (y_pred <= upper_bound)]\n",
    "\n",
    "rmse = np.sqrt(mean_squared_error(outliers_removed_y_train, outliers_removed_y_pred))\n",
    "wo_rmse = np.sqrt(mean_squared_error(y_train, y_pred))\n",
    "\n",
    "print('Cross-Validated rmse: ', rmse)\n",
    "print('Cross-Validated rmse with outliers: ', wo_rmse)"
   ]
  }
 ],
 "metadata": {
  "kernelspec": {
   "display_name": "base",
   "language": "python",
   "name": "python3"
  },
  "language_info": {
   "codemirror_mode": {
    "name": "ipython",
    "version": 3
   },
   "file_extension": ".py",
   "mimetype": "text/x-python",
   "name": "python",
   "nbconvert_exporter": "python",
   "pygments_lexer": "ipython3",
   "version": "3.9.12"
  },
  "orig_nbformat": 4
 },
 "nbformat": 4,
 "nbformat_minor": 2
}
