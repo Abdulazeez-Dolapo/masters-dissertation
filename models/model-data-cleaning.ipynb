{
 "cells": [
  {
   "cell_type": "code",
   "execution_count": 4,
   "metadata": {},
   "outputs": [],
   "source": [
    "import pandas as pd\n",
    "\n",
    "data = pd.read_csv('../data/cleaned-players22.csv')\n",
    "\n",
    "# convert categorical values to numerical values\n",
    "data['position'] = data['position'].astype('category')\n",
    "data['position'] = data['position'].cat.codes\n",
    "\n",
    "data['preferred_foot'] = data['preferred_foot'].astype('category')\n",
    "data['preferred_foot'] = data['preferred_foot'].cat.codes\n",
    "\n",
    "def convert_work_rate_to_numbers(work_rate: str) -> int:\n",
    "   work_rate_values = {\n",
    "      \"high\": 3,\n",
    "      \"medium\": 2,\n",
    "      \"low\": 1\n",
    "   }\n",
    "   work_rate_1, work_rate_2 = work_rate.split('/')\n",
    "\n",
    "   return work_rate_values[work_rate_1.lower()] + work_rate_values[work_rate_2.lower()]\n",
    "\n",
    "data['work_rate'] = data['work_rate'].apply(convert_work_rate_to_numbers)\n",
    "\n",
    "# Perform one-hot encoding on non-numeric columns\n",
    "non_numeric_columns = ['club_name', 'league_name', 'nationality_name']\n",
    "data = pd.get_dummies(data, columns=non_numeric_columns, drop_first=True)\n",
    "\n",
    "data = data.reset_index(drop=True)\n",
    "data.to_csv('../data/model-cleaned-players22.csv', index=False)"
   ]
  },
  {
   "cell_type": "code",
   "execution_count": 5,
   "metadata": {},
   "outputs": [],
   "source": [
    "# What the 2 other columns now map to\n",
    "# position = {\n",
    "#    \"Defender\": 0,\n",
    "#    \"Forward\": 1,\n",
    "#    \"Midfielder\": 2\n",
    "# }\n",
    "\n",
    "# preferred_foot = {\n",
    "#    \"Left\": 0,\n",
    "#    \"Right\": 1,\n",
    "# }"
   ]
  }
 ],
 "metadata": {
  "kernelspec": {
   "display_name": "base",
   "language": "python",
   "name": "python3"
  },
  "language_info": {
   "codemirror_mode": {
    "name": "ipython",
    "version": 3
   },
   "file_extension": ".py",
   "mimetype": "text/x-python",
   "name": "python",
   "nbconvert_exporter": "python",
   "pygments_lexer": "ipython3",
   "version": "3.9.12"
  },
  "orig_nbformat": 4
 },
 "nbformat": 4,
 "nbformat_minor": 2
}
