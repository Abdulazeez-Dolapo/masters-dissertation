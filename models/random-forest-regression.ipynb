{
 "cells": [
  {
   "cell_type": "code",
   "execution_count": 26,
   "metadata": {},
   "outputs": [],
   "source": [
    "# Libraries import\n",
    "import pandas as pd\n",
    "import numpy as np\n",
    "import matplotlib.pyplot as plt\n",
    "\n",
    "from sklearn.model_selection import train_test_split\n",
    "from sklearn.ensemble import RandomForestRegressor\n",
    "from sklearn.pipeline import Pipeline\n",
    "from sklearn.metrics import r2_score, mean_squared_error"
   ]
  },
  {
   "cell_type": "code",
   "execution_count": 27,
   "metadata": {},
   "outputs": [],
   "source": [
    "data = pd.read_csv('../data/model-cleaned-players22.csv')\n",
    "\n",
    "data['value_eur'] = np.log(data['value_eur'])"
   ]
  },
  {
   "cell_type": "code",
   "execution_count": 28,
   "metadata": {},
   "outputs": [],
   "source": [
    "y = data['value_eur']\n",
    "x = data.drop(columns= 'value_eur')\n",
    "\n",
    "x_train, x_test, y_train, y_test = train_test_split(\n",
    "   x, y, test_size=0.2, random_state=0\n",
    ")"
   ]
  },
  {
   "cell_type": "code",
   "execution_count": 29,
   "metadata": {},
   "outputs": [
    {
     "data": {
      "text/plain": [
       "RandomForestRegressor(random_state=42)"
      ]
     },
     "execution_count": 29,
     "metadata": {},
     "output_type": "execute_result"
    }
   ],
   "source": [
    "rfr = RandomForestRegressor(n_estimators=100, random_state=42)\n",
    "rfr.fit(x_train, y_train)"
   ]
  },
  {
   "cell_type": "code",
   "execution_count": 30,
   "metadata": {},
   "outputs": [
    {
     "data": {
      "text/plain": [
       "array([14.2939014 , 13.51629006, 13.16730019, ..., 14.39526038,\n",
       "       14.0770744 , 15.68731273])"
      ]
     },
     "execution_count": 30,
     "metadata": {},
     "output_type": "execute_result"
    }
   ],
   "source": [
    "y_pred_train = rfr.predict(x_train)\n",
    "y_pred_train"
   ]
  },
  {
   "cell_type": "code",
   "execution_count": 31,
   "metadata": {},
   "outputs": [
    {
     "data": {
      "image/png": "[encoded data removed]",
      "text/plain": [
       "<Figure size 432x288 with 1 Axes>"
      ]
     },
     "metadata": {
      "needs_background": "light"
     },
     "output_type": "display_data"
    }
   ],
   "source": [
    "plt.scatter(y_train, y_pred_train)\n",
    "plt.xlabel('Actual Values')\n",
    "plt.ylabel('Predicted Values')\n",
    "plt.show()"
   ]
  },
  {
   "cell_type": "code",
   "execution_count": 32,
   "metadata": {},
   "outputs": [
    {
     "name": "stdout",
     "output_type": "stream",
     "text": [
      "Train r2 Score: 0.9997339211458287\n",
      "Train RMSE: 0.019545700492441333\n"
     ]
    }
   ],
   "source": [
    "train_r2_score = r2_score(y_train, y_pred_train)\n",
    "train_rmse = mean_squared_error(y_train, y_pred_train, squared=False)\n",
    "\n",
    "print('Train r2 Score:', train_r2_score)\n",
    "print('Train RMSE:', train_rmse)"
   ]
  },
  {
   "cell_type": "code",
   "execution_count": 33,
   "metadata": {},
   "outputs": [
    {
     "data": {
      "text/plain": [
       "array([13.11598833, 13.43208465, 14.5814794 , ..., 12.76198303,\n",
       "       12.80339955, 13.23715267])"
      ]
     },
     "execution_count": 33,
     "metadata": {},
     "output_type": "execute_result"
    }
   ],
   "source": [
    "y_pred_test = rfr.predict(x_test)\n",
    "y_pred_test"
   ]
  },
  {
   "cell_type": "code",
   "execution_count": 34,
   "metadata": {},
   "outputs": [
    {
     "data": {
      "image/png": "[encoded data removed]",
      "text/plain": [
       "<Figure size 432x288 with 1 Axes>"
      ]
     },
     "metadata": {
      "needs_background": "light"
     },
     "output_type": "display_data"
    }
   ],
   "source": [
    "plt.scatter(y_test, y_pred_test)\n",
    "plt.xlabel('Actual Values')\n",
    "plt.ylabel('Predicted Values')\n",
    "plt.show()"
   ]
  },
  {
   "cell_type": "code",
   "execution_count": 35,
   "metadata": {},
   "outputs": [
    {
     "name": "stdout",
     "output_type": "stream",
     "text": [
      "Test r2 Score: 0.9979666036684937\n",
      "Test RMSE: 0.05402394689553071\n"
     ]
    }
   ],
   "source": [
    "test_r2_score = r2_score(y_test, y_pred_test)\n",
    "test_rmse = mean_squared_error(y_test, y_pred_test, squared=False)\n",
    "\n",
    "print('Test r2 Score:', test_r2_score)\n",
    "print('Test RMSE:', test_rmse)"
   ]
  },
  {
   "cell_type": "code",
   "execution_count": 36,
   "metadata": {},
   "outputs": [
    {
     "name": "stdout",
     "output_type": "stream",
     "text": [
      "Train Cross-Validated R2 Score: 0.9979539911559501\n",
      "Test Cross-Validated R2 Score: 0.9942310985412763\n",
      "Train Cross-Validated RMSE: 0.0029304755738505895\n",
      "Test Cross-Validated RMSE: 0.008319690749451419\n"
     ]
    }
   ],
   "source": [
    "train_cross_val_r2_scores = cross_val_score(rfr, x_train, y_train, scoring='r2', cv=10)\n",
    "train_cross_val_r2_score = np.mean(train_cross_val_r2_scores)\n",
    "\n",
    "train_cross_val_rmse_scores = cross_val_score(rfr, x_train, y_train, scoring='neg_mean_squared_error', cv=10)\n",
    "train_cross_val_rmse_score = -np.mean(train_cross_val_rmse_scores)\n",
    "\n",
    "\n",
    "test_cross_val_r2_scores = cross_val_score(rfr, x_test, y_test, scoring='r2', cv=10)\n",
    "test_cross_val_r2_score = np.mean(test_cross_val_r2_scores)\n",
    "\n",
    "test_cross_val_rmse_scores = cross_val_score(rfr, x_test, y_test, scoring='neg_mean_squared_error', cv=10)\n",
    "test_cross_val_rmse_score = -np.mean(test_cross_val_rmse_scores)\n",
    "\n",
    "\n",
    "print(\"Train Cross-Validated R2 Score:\", train_cross_val_r2_score)\n",
    "print(\"Test Cross-Validated R2 Score:\", test_cross_val_r2_score)\n",
    "\n",
    "print(\"Train Cross-Validated RMSE:\", train_cross_val_rmse_score)\n",
    "print(\"Test Cross-Validated RMSE:\", test_cross_val_rmse_score)"
   ]
  }
 ],
 "metadata": {
  "kernelspec": {
   "display_name": "base",
   "language": "python",
   "name": "python3"
  },
  "language_info": {
   "codemirror_mode": {
    "name": "ipython",
    "version": 3
   },
   "file_extension": ".py",
   "mimetype": "text/x-python",
   "name": "python",
   "nbconvert_exporter": "python",
   "pygments_lexer": "ipython3",
   "version": "3.9.12"
  },
  "orig_nbformat": 4
 },
 "nbformat": 4,
 "nbformat_minor": 2
}
