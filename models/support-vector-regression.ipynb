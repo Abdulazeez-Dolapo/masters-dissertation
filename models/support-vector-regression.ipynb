{
 "cells": [
  {
   "cell_type": "code",
   "execution_count": 25,
   "metadata": {},
   "outputs": [],
   "source": [
    "# Libraries import\n",
    "import pandas as pd\n",
    "import numpy as np\n",
    "import matplotlib.pyplot as plt\n",
    "\n",
    "from sklearn.model_selection import train_test_split, cross_val_score, GridSearchCV\n",
    "from sklearn.preprocessing import StandardScaler\n",
    "from sklearn.svm import SVR\n",
    "from sklearn.metrics import r2_score, mean_squared_error, mean_absolute_error, explained_variance_score"
   ]
  },
  {
   "cell_type": "code",
   "execution_count": 26,
   "metadata": {},
   "outputs": [],
   "source": [
    "data = pd.read_csv('../data/model-cleaned-players22.csv')"
   ]
  },
  {
   "cell_type": "code",
   "execution_count": 27,
   "metadata": {},
   "outputs": [
    {
     "data": {
      "text/html": [
       "<div>\n",
       "<style scoped>\n",
       "    .dataframe tbody tr th:only-of-type {\n",
       "        vertical-align: middle;\n",
       "    }\n",
       "\n",
       "    .dataframe tbody tr th {\n",
       "        vertical-align: top;\n",
       "    }\n",
       "\n",
       "    .dataframe thead th {\n",
       "        text-align: right;\n",
       "    }\n",
       "</style>\n",
       "<table border=\"1\" class=\"dataframe\">\n",
       "  <thead>\n",
       "    <tr style=\"text-align: right;\">\n",
       "      <th></th>\n",
       "      <th>position</th>\n",
       "      <th>overall</th>\n",
       "      <th>potential</th>\n",
       "      <th>wage_eur</th>\n",
       "      <th>age</th>\n",
       "      <th>height_cm</th>\n",
       "      <th>weight_kg</th>\n",
       "      <th>club_contract_valid_until</th>\n",
       "      <th>preferred_foot</th>\n",
       "      <th>weak_foot</th>\n",
       "      <th>...</th>\n",
       "      <th>nationality_name_Uganda</th>\n",
       "      <th>nationality_name_Ukraine</th>\n",
       "      <th>nationality_name_United Arab Emirates</th>\n",
       "      <th>nationality_name_United States</th>\n",
       "      <th>nationality_name_Uruguay</th>\n",
       "      <th>nationality_name_Uzbekistan</th>\n",
       "      <th>nationality_name_Venezuela</th>\n",
       "      <th>nationality_name_Wales</th>\n",
       "      <th>nationality_name_Zambia</th>\n",
       "      <th>nationality_name_Zimbabwe</th>\n",
       "    </tr>\n",
       "  </thead>\n",
       "  <tbody>\n",
       "    <tr>\n",
       "      <th>0</th>\n",
       "      <td>1</td>\n",
       "      <td>93</td>\n",
       "      <td>93</td>\n",
       "      <td>320000.0</td>\n",
       "      <td>34</td>\n",
       "      <td>170</td>\n",
       "      <td>72</td>\n",
       "      <td>2023.0</td>\n",
       "      <td>0</td>\n",
       "      <td>4</td>\n",
       "      <td>...</td>\n",
       "      <td>0</td>\n",
       "      <td>0</td>\n",
       "      <td>0</td>\n",
       "      <td>0</td>\n",
       "      <td>0</td>\n",
       "      <td>0</td>\n",
       "      <td>0</td>\n",
       "      <td>0</td>\n",
       "      <td>0</td>\n",
       "      <td>0</td>\n",
       "    </tr>\n",
       "    <tr>\n",
       "      <th>1</th>\n",
       "      <td>1</td>\n",
       "      <td>92</td>\n",
       "      <td>92</td>\n",
       "      <td>270000.0</td>\n",
       "      <td>32</td>\n",
       "      <td>185</td>\n",
       "      <td>81</td>\n",
       "      <td>2023.0</td>\n",
       "      <td>1</td>\n",
       "      <td>4</td>\n",
       "      <td>...</td>\n",
       "      <td>0</td>\n",
       "      <td>0</td>\n",
       "      <td>0</td>\n",
       "      <td>0</td>\n",
       "      <td>0</td>\n",
       "      <td>0</td>\n",
       "      <td>0</td>\n",
       "      <td>0</td>\n",
       "      <td>0</td>\n",
       "      <td>0</td>\n",
       "    </tr>\n",
       "    <tr>\n",
       "      <th>2</th>\n",
       "      <td>1</td>\n",
       "      <td>91</td>\n",
       "      <td>91</td>\n",
       "      <td>270000.0</td>\n",
       "      <td>36</td>\n",
       "      <td>187</td>\n",
       "      <td>83</td>\n",
       "      <td>2023.0</td>\n",
       "      <td>1</td>\n",
       "      <td>4</td>\n",
       "      <td>...</td>\n",
       "      <td>0</td>\n",
       "      <td>0</td>\n",
       "      <td>0</td>\n",
       "      <td>0</td>\n",
       "      <td>0</td>\n",
       "      <td>0</td>\n",
       "      <td>0</td>\n",
       "      <td>0</td>\n",
       "      <td>0</td>\n",
       "      <td>0</td>\n",
       "    </tr>\n",
       "    <tr>\n",
       "      <th>3</th>\n",
       "      <td>1</td>\n",
       "      <td>91</td>\n",
       "      <td>91</td>\n",
       "      <td>270000.0</td>\n",
       "      <td>29</td>\n",
       "      <td>175</td>\n",
       "      <td>68</td>\n",
       "      <td>2025.0</td>\n",
       "      <td>1</td>\n",
       "      <td>5</td>\n",
       "      <td>...</td>\n",
       "      <td>0</td>\n",
       "      <td>0</td>\n",
       "      <td>0</td>\n",
       "      <td>0</td>\n",
       "      <td>0</td>\n",
       "      <td>0</td>\n",
       "      <td>0</td>\n",
       "      <td>0</td>\n",
       "      <td>0</td>\n",
       "      <td>0</td>\n",
       "    </tr>\n",
       "    <tr>\n",
       "      <th>4</th>\n",
       "      <td>2</td>\n",
       "      <td>91</td>\n",
       "      <td>91</td>\n",
       "      <td>350000.0</td>\n",
       "      <td>30</td>\n",
       "      <td>181</td>\n",
       "      <td>70</td>\n",
       "      <td>2025.0</td>\n",
       "      <td>1</td>\n",
       "      <td>5</td>\n",
       "      <td>...</td>\n",
       "      <td>0</td>\n",
       "      <td>0</td>\n",
       "      <td>0</td>\n",
       "      <td>0</td>\n",
       "      <td>0</td>\n",
       "      <td>0</td>\n",
       "      <td>0</td>\n",
       "      <td>0</td>\n",
       "      <td>0</td>\n",
       "      <td>0</td>\n",
       "    </tr>\n",
       "    <tr>\n",
       "      <th>...</th>\n",
       "      <td>...</td>\n",
       "      <td>...</td>\n",
       "      <td>...</td>\n",
       "      <td>...</td>\n",
       "      <td>...</td>\n",
       "      <td>...</td>\n",
       "      <td>...</td>\n",
       "      <td>...</td>\n",
       "      <td>...</td>\n",
       "      <td>...</td>\n",
       "      <td>...</td>\n",
       "      <td>...</td>\n",
       "      <td>...</td>\n",
       "      <td>...</td>\n",
       "      <td>...</td>\n",
       "      <td>...</td>\n",
       "      <td>...</td>\n",
       "      <td>...</td>\n",
       "      <td>...</td>\n",
       "      <td>...</td>\n",
       "      <td>...</td>\n",
       "    </tr>\n",
       "    <tr>\n",
       "      <th>17036</th>\n",
       "      <td>2</td>\n",
       "      <td>47</td>\n",
       "      <td>52</td>\n",
       "      <td>1000.0</td>\n",
       "      <td>22</td>\n",
       "      <td>180</td>\n",
       "      <td>64</td>\n",
       "      <td>2021.0</td>\n",
       "      <td>1</td>\n",
       "      <td>3</td>\n",
       "      <td>...</td>\n",
       "      <td>0</td>\n",
       "      <td>0</td>\n",
       "      <td>0</td>\n",
       "      <td>0</td>\n",
       "      <td>0</td>\n",
       "      <td>0</td>\n",
       "      <td>0</td>\n",
       "      <td>0</td>\n",
       "      <td>0</td>\n",
       "      <td>0</td>\n",
       "    </tr>\n",
       "    <tr>\n",
       "      <th>17037</th>\n",
       "      <td>2</td>\n",
       "      <td>47</td>\n",
       "      <td>59</td>\n",
       "      <td>500.0</td>\n",
       "      <td>19</td>\n",
       "      <td>175</td>\n",
       "      <td>70</td>\n",
       "      <td>2021.0</td>\n",
       "      <td>1</td>\n",
       "      <td>3</td>\n",
       "      <td>...</td>\n",
       "      <td>0</td>\n",
       "      <td>0</td>\n",
       "      <td>0</td>\n",
       "      <td>0</td>\n",
       "      <td>0</td>\n",
       "      <td>0</td>\n",
       "      <td>0</td>\n",
       "      <td>0</td>\n",
       "      <td>0</td>\n",
       "      <td>0</td>\n",
       "    </tr>\n",
       "    <tr>\n",
       "      <th>17038</th>\n",
       "      <td>2</td>\n",
       "      <td>47</td>\n",
       "      <td>55</td>\n",
       "      <td>500.0</td>\n",
       "      <td>21</td>\n",
       "      <td>178</td>\n",
       "      <td>72</td>\n",
       "      <td>2021.0</td>\n",
       "      <td>1</td>\n",
       "      <td>3</td>\n",
       "      <td>...</td>\n",
       "      <td>0</td>\n",
       "      <td>0</td>\n",
       "      <td>0</td>\n",
       "      <td>0</td>\n",
       "      <td>0</td>\n",
       "      <td>0</td>\n",
       "      <td>0</td>\n",
       "      <td>0</td>\n",
       "      <td>0</td>\n",
       "      <td>0</td>\n",
       "    </tr>\n",
       "    <tr>\n",
       "      <th>17039</th>\n",
       "      <td>1</td>\n",
       "      <td>47</td>\n",
       "      <td>60</td>\n",
       "      <td>500.0</td>\n",
       "      <td>19</td>\n",
       "      <td>173</td>\n",
       "      <td>66</td>\n",
       "      <td>2021.0</td>\n",
       "      <td>1</td>\n",
       "      <td>3</td>\n",
       "      <td>...</td>\n",
       "      <td>0</td>\n",
       "      <td>0</td>\n",
       "      <td>0</td>\n",
       "      <td>0</td>\n",
       "      <td>0</td>\n",
       "      <td>0</td>\n",
       "      <td>0</td>\n",
       "      <td>0</td>\n",
       "      <td>0</td>\n",
       "      <td>0</td>\n",
       "    </tr>\n",
       "    <tr>\n",
       "      <th>17040</th>\n",
       "      <td>2</td>\n",
       "      <td>47</td>\n",
       "      <td>60</td>\n",
       "      <td>500.0</td>\n",
       "      <td>19</td>\n",
       "      <td>167</td>\n",
       "      <td>61</td>\n",
       "      <td>2025.0</td>\n",
       "      <td>1</td>\n",
       "      <td>3</td>\n",
       "      <td>...</td>\n",
       "      <td>0</td>\n",
       "      <td>0</td>\n",
       "      <td>0</td>\n",
       "      <td>0</td>\n",
       "      <td>0</td>\n",
       "      <td>0</td>\n",
       "      <td>0</td>\n",
       "      <td>0</td>\n",
       "      <td>0</td>\n",
       "      <td>0</td>\n",
       "    </tr>\n",
       "  </tbody>\n",
       "</table>\n",
       "<p>17041 rows × 963 columns</p>\n",
       "</div>"
      ],
      "text/plain": [
       "       position  overall  potential  wage_eur  age  height_cm  weight_kg  \\\n",
       "0             1       93         93  320000.0   34        170         72   \n",
       "1             1       92         92  270000.0   32        185         81   \n",
       "2             1       91         91  270000.0   36        187         83   \n",
       "3             1       91         91  270000.0   29        175         68   \n",
       "4             2       91         91  350000.0   30        181         70   \n",
       "...         ...      ...        ...       ...  ...        ...        ...   \n",
       "17036         2       47         52    1000.0   22        180         64   \n",
       "17037         2       47         59     500.0   19        175         70   \n",
       "17038         2       47         55     500.0   21        178         72   \n",
       "17039         1       47         60     500.0   19        173         66   \n",
       "17040         2       47         60     500.0   19        167         61   \n",
       "\n",
       "       club_contract_valid_until  preferred_foot  weak_foot  ...  \\\n",
       "0                         2023.0               0          4  ...   \n",
       "1                         2023.0               1          4  ...   \n",
       "2                         2023.0               1          4  ...   \n",
       "3                         2025.0               1          5  ...   \n",
       "4                         2025.0               1          5  ...   \n",
       "...                          ...             ...        ...  ...   \n",
       "17036                     2021.0               1          3  ...   \n",
       "17037                     2021.0               1          3  ...   \n",
       "17038                     2021.0               1          3  ...   \n",
       "17039                     2021.0               1          3  ...   \n",
       "17040                     2025.0               1          3  ...   \n",
       "\n",
       "       nationality_name_Uganda  nationality_name_Ukraine  \\\n",
       "0                            0                         0   \n",
       "1                            0                         0   \n",
       "2                            0                         0   \n",
       "3                            0                         0   \n",
       "4                            0                         0   \n",
       "...                        ...                       ...   \n",
       "17036                        0                         0   \n",
       "17037                        0                         0   \n",
       "17038                        0                         0   \n",
       "17039                        0                         0   \n",
       "17040                        0                         0   \n",
       "\n",
       "       nationality_name_United Arab Emirates  nationality_name_United States  \\\n",
       "0                                          0                               0   \n",
       "1                                          0                               0   \n",
       "2                                          0                               0   \n",
       "3                                          0                               0   \n",
       "4                                          0                               0   \n",
       "...                                      ...                             ...   \n",
       "17036                                      0                               0   \n",
       "17037                                      0                               0   \n",
       "17038                                      0                               0   \n",
       "17039                                      0                               0   \n",
       "17040                                      0                               0   \n",
       "\n",
       "       nationality_name_Uruguay  nationality_name_Uzbekistan  \\\n",
       "0                             0                            0   \n",
       "1                             0                            0   \n",
       "2                             0                            0   \n",
       "3                             0                            0   \n",
       "4                             0                            0   \n",
       "...                         ...                          ...   \n",
       "17036                         0                            0   \n",
       "17037                         0                            0   \n",
       "17038                         0                            0   \n",
       "17039                         0                            0   \n",
       "17040                         0                            0   \n",
       "\n",
       "       nationality_name_Venezuela  nationality_name_Wales  \\\n",
       "0                               0                       0   \n",
       "1                               0                       0   \n",
       "2                               0                       0   \n",
       "3                               0                       0   \n",
       "4                               0                       0   \n",
       "...                           ...                     ...   \n",
       "17036                           0                       0   \n",
       "17037                           0                       0   \n",
       "17038                           0                       0   \n",
       "17039                           0                       0   \n",
       "17040                           0                       0   \n",
       "\n",
       "       nationality_name_Zambia  nationality_name_Zimbabwe  \n",
       "0                            0                          0  \n",
       "1                            0                          0  \n",
       "2                            0                          0  \n",
       "3                            0                          0  \n",
       "4                            0                          0  \n",
       "...                        ...                        ...  \n",
       "17036                        0                          0  \n",
       "17037                        0                          0  \n",
       "17038                        0                          0  \n",
       "17039                        0                          0  \n",
       "17040                        0                          0  \n",
       "\n",
       "[17041 rows x 963 columns]"
      ]
     },
     "execution_count": 27,
     "metadata": {},
     "output_type": "execute_result"
    }
   ],
   "source": [
    "data['value_eur'] = np.log(data['value_eur'])\n",
    "\n",
    "y = data['value_eur']\n",
    "x = data.drop(columns= 'value_eur')\n",
    "\n",
    "x"
   ]
  },
  {
   "cell_type": "code",
   "execution_count": 28,
   "metadata": {},
   "outputs": [
    {
     "data": {
      "text/plain": [
       "array([[-1.18158287,  0.45282297,  0.12640773, ..., -0.08377233,\n",
       "        -0.02266631, -0.02841789],\n",
       "       [-0.04941603, -0.7278556 , -0.20418031, ..., -0.08377233,\n",
       "        -0.02266631, -0.02841789],\n",
       "       [-1.18158287, -0.28510114, -1.19594441, ..., -0.08377233,\n",
       "        -0.02266631, -0.02841789],\n",
       "       ...,\n",
       "       [-0.04941603, -0.13751631,  1.44875986, ..., -0.08377233,\n",
       "        -0.02266631, -0.02841789],\n",
       "       [-0.04941603, -0.28510114,  0.12640773, ..., -0.08377233,\n",
       "        -0.02266631, -0.02841789],\n",
       "       [-1.18158287,  1.04316225,  1.61405388, ..., -0.08377233,\n",
       "        -0.02266631, -0.02841789]])"
      ]
     },
     "execution_count": 28,
     "metadata": {},
     "output_type": "execute_result"
    }
   ],
   "source": [
    "x_trai, x_tes, y_train, y_test = train_test_split(\n",
    "   x, y, test_size=0.2, random_state=0\n",
    ")\n",
    "\n",
    "# scaler = MinMaxScaler()\n",
    "scaler = StandardScaler()\n",
    "x_train = scaler.fit_transform(x_trai)\n",
    "x_test = scaler.transform(x_tes)\n",
    "\n",
    "x_train"
   ]
  },
  {
   "cell_type": "code",
   "execution_count": 29,
   "metadata": {},
   "outputs": [],
   "source": [
    "svr = SVR().fit(x_train, y_train)"
   ]
  },
  {
   "cell_type": "code",
   "execution_count": 30,
   "metadata": {},
   "outputs": [],
   "source": [
    "y_train_pred = svr.predict(x_train)"
   ]
  },
  {
   "cell_type": "code",
   "execution_count": 31,
   "metadata": {},
   "outputs": [
    {
     "name": "stdout",
     "output_type": "stream",
     "text": [
      "0.9724445350817226 0.1369673068234391 0.039563969684278805 0.19890693724523237 0.9724802514854451\n"
     ]
    }
   ],
   "source": [
    "train_r2s = r2_score(y_train, y_train_pred)\n",
    "train_mae = mean_absolute_error(y_train, y_train_pred)\n",
    "train_mse = mean_squared_error(y_train, y_train_pred)\n",
    "train_rmse = np.sqrt(train_mse)\n",
    "train_evs = explained_variance_score(y_train, y_train_pred)\n",
    "\n",
    "print(train_r2s, train_mae, train_mse, train_rmse, train_evs)"
   ]
  },
  {
   "cell_type": "code",
   "execution_count": 32,
   "metadata": {},
   "outputs": [],
   "source": [
    "y_test_pred = svr.predict(x_test)"
   ]
  },
  {
   "cell_type": "code",
   "execution_count": 33,
   "metadata": {},
   "outputs": [
    {
     "name": "stdout",
     "output_type": "stream",
     "text": [
      "0.9393509152064106 0.19968678592141628 0.08705121470076112 0.29504442835064876 0.9393687825222087\n"
     ]
    }
   ],
   "source": [
    "test_r2s = r2_score(y_test, y_test_pred)\n",
    "test_mae = mean_absolute_error(y_test, y_test_pred)\n",
    "test_mse = mean_squared_error(y_test, y_test_pred)\n",
    "test_rmse = np.sqrt(test_mse)\n",
    "test_evs = explained_variance_score(y_test, y_test_pred)\n",
    "\n",
    "print(test_r2s, test_mae, test_mse, test_rmse, test_evs)"
   ]
  },
  {
   "cell_type": "code",
   "execution_count": 34,
   "metadata": {},
   "outputs": [
    {
     "data": {
      "image/png": "[encoded data removed]",
      "text/plain": [
       "<Figure size 432x288 with 1 Axes>"
      ]
     },
     "metadata": {
      "needs_background": "light"
     },
     "output_type": "display_data"
    }
   ],
   "source": [
    "plt.scatter(y_train, y_train_pred)\n",
    "plt.xlabel('Actual Values')\n",
    "plt.ylabel('Predicted Values')\n",
    "plt.show()"
   ]
  },
  {
   "cell_type": "code",
   "execution_count": 35,
   "metadata": {},
   "outputs": [
    {
     "data": {
      "image/png": "[encoded data removed]",
      "text/plain": [
       "<Figure size 432x288 with 1 Axes>"
      ]
     },
     "metadata": {
      "needs_background": "light"
     },
     "output_type": "display_data"
    }
   ],
   "source": [
    "plt.scatter(y_test, y_test_pred)\n",
    "plt.xlabel('Actual Values')\n",
    "plt.ylabel('Predicted Values')\n",
    "plt.show()"
   ]
  },
  {
   "cell_type": "code",
   "execution_count": 36,
   "metadata": {},
   "outputs": [
    {
     "name": "stdout",
     "output_type": "stream",
     "text": [
      "0.9383979196321175\n"
     ]
    }
   ],
   "source": [
    "cross_val_score_train = cross_val_score(svr, x_train, y_train, scoring='r2', cv=10)\n",
    "print(np.mean(cross_val_score_train))"
   ]
  },
  {
   "cell_type": "code",
   "execution_count": 37,
   "metadata": {},
   "outputs": [
    {
     "name": "stdout",
     "output_type": "stream",
     "text": [
      "0.8850355495187996\n"
     ]
    }
   ],
   "source": [
    "cross_val_score_test = cross_val_score(svr, x_test, y_test, scoring='r2', cv=10)\n",
    "print(np.mean(cross_val_score_test))"
   ]
  },
  {
   "cell_type": "code",
   "execution_count": 51,
   "metadata": {},
   "outputs": [
    {
     "name": "stdout",
     "output_type": "stream",
     "text": [
      "train: 0.9707967489729407\n",
      "test: 0.9703021525391691\n",
      "mse: 0.042626095748381485\n"
     ]
    }
   ],
   "source": [
    "params = {\n",
    "   'C': [0.001, 0.01, 0.1, 1],\n",
    "   'gamma': [0.001, 0.01, 0.1, 1],\n",
    "   'epsilon': [0.001, 0.01, 0.1, 1]\n",
    "}\n",
    "\n",
    "grid_search = GridSearchCV(\n",
    "   SVR(kernel='linear'),\n",
    "   params,\n",
    "   cv=5,\n",
    "   n_jobs=-1, # This uses all available CPU cores which improves performance\n",
    "   error_score='raise', # If there's any error, this raises the exact error instead of a more vague error. \n",
    "   scoring='neg_mean_squared_error'\n",
    ")\n",
    "grid_search.fit(x_train[:2000], y_train[:2000])\n",
    "\n",
    "# Get the best hyperparameters and model\n",
    "best_params = grid_search.best_params_\n",
    "best_model = grid_search.best_estimator_\n",
    "\n",
    "# Evaluate the best model on the test set\n",
    "y_pred = best_model.predict(x_test)\n",
    "mse = mean_squared_error(y_test, y_pred)\n",
    "\n",
    "train_score = best_model.score(x_train, y_train)\n",
    "test_score = best_model.score(x_test, y_test)\n",
    "\n",
    "print('train: ' + str(train_score))\n",
    "print('test: ' + str(test_score))\n",
    "print('mse: ' + str(mse))"
   ]
  },
  {
   "cell_type": "code",
   "execution_count": 52,
   "metadata": {},
   "outputs": [
    {
     "data": {
      "text/plain": [
       "{'C': 1, 'epsilon': 0.1, 'gamma': 0.001}"
      ]
     },
     "execution_count": 52,
     "metadata": {},
     "output_type": "execute_result"
    }
   ],
   "source": [
    "best_params"
   ]
  }
 ],
 "metadata": {
  "kernelspec": {
   "display_name": "base",
   "language": "python",
   "name": "python3"
  },
  "language_info": {
   "codemirror_mode": {
    "name": "ipython",
    "version": 3
   },
   "file_extension": ".py",
   "mimetype": "text/x-python",
   "name": "python",
   "nbconvert_exporter": "python",
   "pygments_lexer": "ipython3",
   "version": "3.9.12"
  },
  "orig_nbformat": 4
 },
 "nbformat": 4,
 "nbformat_minor": 2
}
