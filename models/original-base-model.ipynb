{
 "cells": [
  {
   "cell_type": "code",
   "execution_count": 31,
   "metadata": {},
   "outputs": [],
   "source": [
    "# Libraries import\n",
    "import pandas as pd\n",
    "import numpy as np\n",
    "import matplotlib.pyplot as plt\n",
    "\n",
    "from sklearn.model_selection import train_test_split, cross_val_score, cross_val_predict\n",
    "from sklearn.linear_model import LinearRegression\n",
    "from sklearn.preprocessing import StandardScaler\n",
    "from sklearn.metrics import r2_score, mean_squared_error, make_scorer"
   ]
  },
  {
   "cell_type": "code",
   "execution_count": 32,
   "metadata": {},
   "outputs": [],
   "source": [
    "data = pd.read_csv('../data/model-cleaned-players22.csv')\n",
    "\n",
    "data['value_eur'] = np.log(data['value_eur'])\n"
   ]
  },
  {
   "cell_type": "code",
   "execution_count": 33,
   "metadata": {},
   "outputs": [],
   "source": [
    "# Create a copy of this dataset. The new copy will be standardized\n",
    "# so we can compare the performance of both the standardized and non-standardized datasets\n",
    "standardized_data = data.copy()\n",
    "\n",
    "y = data['value_eur']\n",
    "x = data['international_reputation']\n",
    "\n",
    "sdz_y = standardized_data['value_eur']\n",
    "sdz_x = standardized_data['international_reputation']"
   ]
  },
  {
   "cell_type": "code",
   "execution_count": 34,
   "metadata": {},
   "outputs": [],
   "source": [
    "x_trai, x_tes, y_trai, y_tes = train_test_split(\n",
    "   x, y, test_size=0.2, random_state=0\n",
    ")\n",
    "\n",
    "x_train = np.reshape(x_trai.values, (-1, 1))\n",
    "x_test = np.reshape(x_tes.values, (-1, 1))\n",
    "y_train = np.reshape(y_trai.values, (-1, 1))\n",
    "y_test = np.reshape(y_tes.values, (-1, 1))"
   ]
  },
  {
   "cell_type": "code",
   "execution_count": 35,
   "metadata": {},
   "outputs": [],
   "source": [
    "# Standardize the train data\n",
    "sd_x_train, sd_x_test, sd_y_train, sd_y_test = train_test_split(\n",
    "   sdz_x, sdz_y, test_size=0.2, random_state=0\n",
    ")\n",
    "\n",
    "\n",
    "sd_x_train = np.reshape(sd_x_train.values, (-1, 1))\n",
    "sd_x_test = np.reshape(sd_x_test.values, (-1, 1))\n",
    "sdz_y_train = np.reshape(sd_y_train.values, (-1, 1))\n",
    "sdz_y_test = np.reshape(sd_y_test.values, (-1, 1))\n",
    "\n",
    "scaler = StandardScaler()\n",
    "sdz_x_train = scaler.fit_transform(sd_x_train)\n",
    "sdz_x_test = scaler.transform(sd_x_test)"
   ]
  },
  {
   "cell_type": "code",
   "execution_count": 36,
   "metadata": {},
   "outputs": [
    {
     "data": {
      "text/plain": [
       "LinearRegression()"
      ]
     },
     "execution_count": 36,
     "metadata": {},
     "output_type": "execute_result"
    }
   ],
   "source": [
    "lr = LinearRegression()\n",
    "lr.fit(x_train, y_train)"
   ]
  },
  {
   "cell_type": "code",
   "execution_count": 37,
   "metadata": {},
   "outputs": [
    {
     "data": {
      "text/plain": [
       "LinearRegression()"
      ]
     },
     "execution_count": 37,
     "metadata": {},
     "output_type": "execute_result"
    }
   ],
   "source": [
    "sdz_lr = LinearRegression()\n",
    "sdz_lr.fit(sdz_x_train, sdz_y_train)"
   ]
  },
  {
   "cell_type": "code",
   "execution_count": 38,
   "metadata": {},
   "outputs": [
    {
     "data": {
      "text/plain": [
       "array([[13.81528697],\n",
       "       [13.81528697],\n",
       "       [13.81528697],\n",
       "       ...,\n",
       "       [13.81528697],\n",
       "       [13.81528697],\n",
       "       [13.81528697]])"
      ]
     },
     "execution_count": 38,
     "metadata": {},
     "output_type": "execute_result"
    }
   ],
   "source": [
    "y_pred_test = lr.predict(x_test)\n",
    "y_pred_test"
   ]
  },
  {
   "cell_type": "code",
   "execution_count": 39,
   "metadata": {},
   "outputs": [
    {
     "data": {
      "text/plain": [
       "array([[13.81528697],\n",
       "       [13.81528697],\n",
       "       [13.81528697],\n",
       "       ...,\n",
       "       [13.81528697],\n",
       "       [13.81528697],\n",
       "       [13.81528697]])"
      ]
     },
     "execution_count": 39,
     "metadata": {},
     "output_type": "execute_result"
    }
   ],
   "source": [
    "sdz_y_pred_test = sdz_lr.predict(sdz_x_test)\n",
    "sdz_y_pred_test"
   ]
  },
  {
   "cell_type": "code",
   "execution_count": 40,
   "metadata": {},
   "outputs": [
    {
     "data": {
      "image/png": "[encoded data removed]",
      "text/plain": [
       "<Figure size 432x288 with 1 Axes>"
      ]
     },
     "metadata": {
      "needs_background": "light"
     },
     "output_type": "display_data"
    }
   ],
   "source": [
    "plt.scatter(y_test, y_pred_test)\n",
    "plt.xlabel('Actual Values')\n",
    "plt.ylabel('Predicted Values')\n",
    "plt.show()"
   ]
  },
  {
   "cell_type": "code",
   "execution_count": 41,
   "metadata": {},
   "outputs": [
    {
     "data": {
      "image/png": "[encoded data removed]",
      "text/plain": [
       "<Figure size 432x288 with 1 Axes>"
      ]
     },
     "metadata": {
      "needs_background": "light"
     },
     "output_type": "display_data"
    }
   ],
   "source": [
    "plt.scatter(sdz_y_test, sdz_y_pred_test)\n",
    "plt.xlabel('SDZ - Actual Values')\n",
    "plt.ylabel('SDZ - Predicted Values')\n",
    "plt.show()"
   ]
  },
  {
   "cell_type": "code",
   "execution_count": 42,
   "metadata": {},
   "outputs": [
    {
     "data": {
      "text/plain": [
       "0.24000190982739833"
      ]
     },
     "execution_count": 42,
     "metadata": {},
     "output_type": "execute_result"
    }
   ],
   "source": [
    "r2_score(y_test, y_pred_test)"
   ]
  },
  {
   "cell_type": "code",
   "execution_count": 43,
   "metadata": {},
   "outputs": [
    {
     "data": {
      "text/plain": [
       "0.24000190982739833"
      ]
     },
     "execution_count": 43,
     "metadata": {},
     "output_type": "execute_result"
    }
   ],
   "source": [
    "r2_score(sdz_y_test, sdz_y_pred_test)"
   ]
  },
  {
   "cell_type": "code",
   "execution_count": 44,
   "metadata": {},
   "outputs": [
    {
     "data": {
      "text/plain": [
       "1.044435301600126"
      ]
     },
     "execution_count": 44,
     "metadata": {},
     "output_type": "execute_result"
    }
   ],
   "source": [
    "# Calculate the Mean Squared Error (MSE)\n",
    "mse = mean_squared_error(y_test, y_pred_test)\n",
    "\n",
    "# Calculate the Root Mean Squared Error (RMSE)\n",
    "rmse = np.sqrt(mse)\n",
    "\n",
    "rmse"
   ]
  },
  {
   "cell_type": "code",
   "execution_count": 45,
   "metadata": {},
   "outputs": [
    {
     "data": {
      "text/plain": [
       "1.044435301600126"
      ]
     },
     "execution_count": 45,
     "metadata": {},
     "output_type": "execute_result"
    }
   ],
   "source": [
    "# Calculate the Mean Squared Error (MSE)\n",
    "sdz_mse = mean_squared_error(sdz_y_test, sdz_y_pred_test)\n",
    "\n",
    "# Calculate the Root Mean Squared Error (RMSE)\n",
    "sdz_rmse = np.sqrt(sdz_mse)\n",
    "\n",
    "sdz_rmse"
   ]
  },
  {
   "cell_type": "code",
   "execution_count": 46,
   "metadata": {},
   "outputs": [
    {
     "name": "stdout",
     "output_type": "stream",
     "text": [
      "0.2331971592937614\n"
     ]
    }
   ],
   "source": [
    "cross_val_score_test = cross_val_score(lr, x_test, y_test, scoring='r2', cv=10)\n",
    "\n",
    "print(np.mean(cross_val_score_test))"
   ]
  },
  {
   "cell_type": "code",
   "execution_count": 47,
   "metadata": {},
   "outputs": [
    {
     "name": "stdout",
     "output_type": "stream",
     "text": [
      "0.2331971592937614\n"
     ]
    }
   ],
   "source": [
    "sdz_cross_val_score_test = cross_val_score(sdz_lr, sdz_x_test, sdz_y_test, scoring='r2', cv=10)\n",
    "\n",
    "print(np.mean(sdz_cross_val_score_test))"
   ]
  },
  {
   "cell_type": "code",
   "execution_count": 48,
   "metadata": {},
   "outputs": [],
   "source": [
    "y_pred = cross_val_predict(lr, x_train, y_train, cv=10)"
   ]
  }
 ],
 "metadata": {
  "kernelspec": {
   "display_name": "base",
   "language": "python",
   "name": "python3"
  },
  "language_info": {
   "codemirror_mode": {
    "name": "ipython",
    "version": 3
   },
   "file_extension": ".py",
   "mimetype": "text/x-python",
   "name": "python",
   "nbconvert_exporter": "python",
   "pygments_lexer": "ipython3",
   "version": "3.9.12"
  },
  "orig_nbformat": 4
 },
 "nbformat": 4,
 "nbformat_minor": 2
}
